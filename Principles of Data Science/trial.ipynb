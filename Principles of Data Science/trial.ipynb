{
 "cells": [
  {
   "cell_type": "code",
   "execution_count": null,
   "metadata": {},
   "outputs": [],
   "source": [
    "# For data cleaning and analysis \n",
    "import pandas as pd\n",
    "import numpy as np\n",
    "import missingno as mn\n",
    "\n",
    "#For visualization\n",
    "import seaborn as sns\n",
    "import matplotlib.pyplot as plt\n",
    "%matplotlib inline\n",
    "import plotly.express as px\n",
    "import plotly.graph_objects as go\n",
    "from plotly.subplots import make_subplots\n",
    "\n",
    "# Machine Learning\n",
    "from sklearn.decomposition import PCA\n",
    "from sklearn.cluster import KMeans\n",
    "from sklearn.preprocessing import StandardScaler\n",
    "from sklearn import decomposition, preprocessing, cluster, tree\n",
    "from sklearn.ensemble import RandomForestRegressor\n",
    "from sklearn.model_selection import train_test_split\n",
    "from sklearn.metrics import mean_squared_error\n",
    "from sklearn.metrics import r2_score"
   ]
  },
  {
   "cell_type": "code",
   "execution_count": null,
   "metadata": {},
   "outputs": [],
   "source": [
    "data = pd.read_csv(\"Umbrella.csv\")\n",
    "sales = data[\"Sales\"]\n",
    "\n",
    "# Step 2: Create a Line Chart for Sales Time Series Data\n",
    "import matplotlib.pyplot as plt\n",
    "\n",
    "plt.plot(sales)\n",
    "plt.title(\"Umbrella Sales Time Series\")\n",
    "plt.xlabel(\"Quarter\")\n",
    "plt.ylabel(\"Sales Revenue\")\n",
    "\n",
    "# Step 3: Add a Four-Period Moving Average\n",
    "moving_avg = sales.rolling(4).mean()\n",
    "\n",
    "plt.plot(moving_avg, color='red', label=\"Moving Average\")\n",
    "plt.legend()\n",
    "\n",
    "# Step 4: Plot the Data as a Collection of Five Data Series\n",
    "years = data[\"Year\"].unique()\n",
    "\n",
    "for year in years:\n",
    "    year_sales = data[data[\"Year\"] == year][\"Sales\"]\n",
    "    plt.plot(year_sales, label=year)\n",
    "\n",
    "plt.legend()\n",
    "\n",
    "# Step 5: Analyze the Visualization for Seasonality\n",
    "plt.show()\n"
   ]
  }
 ],
 "metadata": {
  "language_info": {
   "name": "python"
  },
  "orig_nbformat": 4
 },
 "nbformat": 4,
 "nbformat_minor": 2
}
