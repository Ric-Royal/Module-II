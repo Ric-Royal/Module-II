{
 "cells": [
  {
   "cell_type": "code",
   "execution_count": null,
   "metadata": {},
   "outputs": [],
   "source": []
  },
  {
   "attachments": {},
   "cell_type": "markdown",
   "metadata": {},
   "source": [
    "Question 3\n",
    "Regression Analysis\n",
    "This is statistical method for examining the relationship between the dependent and one or more independent variables. In this case, the independent variable is used to predict the dependent variable. \n",
    "\n",
    "Assumptions\n",
    "1. The data is normally distributed\n",
    "2. The numerical variables are standardized\n",
    "3. The categorical variables are encoded\n",
    "\n",
    "Regression analysis can be used to determine if the information system is operating efficiently by analyzing the feedback from the patients and doctors who are using it. Americlinic can use the customer feedback to check for customer attrition and satisfaction with the services offered.\n",
    "\n",
    "Regression analysis can "
   ]
  }
 ],
 "metadata": {
  "language_info": {
   "name": "python"
  },
  "orig_nbformat": 4
 },
 "nbformat": 4,
 "nbformat_minor": 2
}
